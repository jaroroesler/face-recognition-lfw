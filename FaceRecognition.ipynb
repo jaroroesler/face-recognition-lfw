{
  "nbformat": 4,
  "nbformat_minor": 0,
  "metadata": {
    "colab": {
      "name": "FaceRecognition.ipynb",
      "provenance": [],
      "collapsed_sections": [],
      "authorship_tag": "ABX9TyMbAPcRahqjg1GbqLf57g1k",
      "include_colab_link": true
    },
    "kernelspec": {
      "name": "python3",
      "display_name": "Python 3"
    },
    "language_info": {
      "name": "python"
    }
  },
  "cells": [
    {
      "cell_type": "markdown",
      "metadata": {
        "id": "view-in-github",
        "colab_type": "text"
      },
      "source": [
        "<a href=\"https://colab.research.google.com/github/jaroroesler/face-recognition-lfw/blob/main/FaceRecognition.ipynb\" target=\"_parent\"><img src=\"https://colab.research.google.com/assets/colab-badge.svg\" alt=\"Open In Colab\"/></a>"
      ]
    },
    {
      "cell_type": "code",
      "metadata": {
        "colab": {
          "base_uri": "https://localhost:8080/"
        },
        "id": "GQFvNBXWpZcc",
        "outputId": "c262622c-62d9-4d20-993e-9971c4bfee13"
      },
      "source": [
        "#Just a test to see if you could mount the google drive on the virtual machine for this session (Probalby wont need this for anything)\n",
        "import os\n",
        "from google.colab import drive\n",
        "\n",
        "drive.mount('/content/gdrive')"
      ],
      "execution_count": null,
      "outputs": [
        {
          "output_type": "stream",
          "name": "stdout",
          "text": [
            "Mounted at /content/gdrive\n"
          ]
        }
      ]
    },
    {
      "cell_type": "markdown",
      "metadata": {
        "id": "J9b0ziw4sF8R"
      },
      "source": [
        "\n",
        "\n",
        "\n",
        "# Maybe just type something here, to see if you can edit :)\n",
        "\n",
        "1. \n",
        "\n",
        "2.\n",
        "\n"
      ]
    }
  ]
}